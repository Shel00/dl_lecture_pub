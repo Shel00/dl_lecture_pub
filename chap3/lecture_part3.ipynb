{
 "cells": [
  {
   "cell_type": "markdown",
   "metadata": {},
   "source": [
    "#第3回 演習課題（案）"
   ]
  },
  {
   "cell_type": "markdown",
   "metadata": {},
   "source": [
    "##課題1．パーセプトロンを実装し，学習せよ．"
   ]
  },
  {
   "cell_type": "code",
   "execution_count": 1,
   "metadata": {
    "collapsed": false
   },
   "outputs": [],
   "source": [
    "import numpy as np\n",
    "np.random.seed(1234)"
   ]
  },
  {
   "cell_type": "code",
   "execution_count": 2,
   "metadata": {
    "collapsed": false
   },
   "outputs": [
    {
     "name": "stdout",
     "output_type": "stream",
     "text": [
      "[[ 1.]\n",
      " [ 1.]\n",
      " [-1.]\n",
      " [ 1.]]\n"
     ]
    }
   ],
   "source": [
    "class Linear:\n",
    "    def __init__(self,in_dim,out_dim):\n",
    "        self.W = np.random.normal(0,1,size=(in_dim,out_dim)).astype(np.float32)\n",
    "        self.b = np.zeros(out_dim).astype(np.float32)\n",
    "\n",
    "    def fprop(self,x):\n",
    "        h  = np.dot(x,self.W)+self.b\n",
    "        return h\n",
    "\n",
    "class Step:\n",
    "    def __init__(self):\n",
    "        pass\n",
    "    def fprop(self,x):\n",
    "        h = np.sign(x)\n",
    "        h[h==0]=1\n",
    "        return h\n",
    "    \n",
    "def prop(layers, x):\n",
    "    for i, layer in enumerate(layers):\n",
    "        if i == 0:\n",
    "            layer_out = layer.fprop(x)\n",
    "        else:\n",
    "            layer_out = layer.fprop(layer_out)\n",
    "    return layer_out\n",
    "\n",
    "X = np.array([[0,1],[1,0],[0,0],[1,1]])\n",
    "y = np.array([[1],[1],[-1],[1]])\n",
    "\n",
    "layers = [Linear(2,1),Step()]\n",
    "\n",
    "mu = 1\n",
    "\n",
    "for i in range(100):\n",
    "    out = prop(layers,X)\n",
    "    for i,o in enumerate(out):\n",
    "        if o*y[i]!=1:\n",
    "            layers[0].W = layers[0].W + mu*y[i]*X[i][np.newaxis,:].T\n",
    "            layers[0].b = layers[0].b + mu*y[i]*np.ones(1)\n",
    "\n",
    "print prop(layers,X)"
   ]
  },
  {
   "cell_type": "markdown",
   "metadata": {},
   "source": [
    "##課題2．次の活性化関数とその微分を実装せよ．"
   ]
  },
  {
   "cell_type": "code",
   "execution_count": 3,
   "metadata": {
    "collapsed": false
   },
   "outputs": [],
   "source": [
    "class Sigmoid:\n",
    "    def __init__(self):\n",
    "        pass\n",
    "    def fprop(self,x):\n",
    "        return 1/(1+np.exp(-x))\n",
    "    def bprop(self,x):\n",
    "        return self.fprop(x)(1-self.fprop(x))\n",
    "    \n",
    "class Tanh:\n",
    "    def __init__(self):\n",
    "        pass\n",
    "    def fprop(self,x):\n",
    "        return (np.exp(x)-np.exp(-x))/(np.exp(x)+np.exp(-x))\n",
    "    def bprop(self,x):\n",
    "        return 1-self.fprop(x)**2"
   ]
  },
  {
   "cell_type": "markdown",
   "metadata": {},
   "source": [
    "##課題3．これまでの実装を利用し，自由に順伝播ネットワークを構成し，出力を求めよ．"
   ]
  },
  {
   "cell_type": "code",
   "execution_count": 4,
   "metadata": {
    "collapsed": false
   },
   "outputs": [
    {
     "name": "stdout",
     "output_type": "stream",
     "text": [
      "[[-0.1211595   0.56719103  0.58218253 -0.49121413  0.21827793]\n",
      " [ 0.38342245 -0.27972626  0.69885318 -0.54063904  0.53556699]\n",
      " [ 0.32138817  0.34352702  0.59147232 -0.53339808  0.4166194 ]\n",
      " [ 0.08750672 -0.06047041  0.69542685 -0.51201038  0.41303291]]\n"
     ]
    }
   ],
   "source": [
    "X = np.array([[0,1],[1,0],[0,0],[1,1]])\n",
    "\n",
    "layers = [Linear(2,5),\n",
    "          Sigmoid(),\n",
    "          Linear(5,5),\n",
    "          Tanh()]\n",
    "out = prop(layers,X)\n",
    "print out"
   ]
  },
  {
   "cell_type": "code",
   "execution_count": null,
   "metadata": {
    "collapsed": true
   },
   "outputs": [],
   "source": []
  }
 ],
 "metadata": {
  "kernelspec": {
   "display_name": "Python 2",
   "language": "python",
   "name": "python2"
  },
  "language_info": {
   "codemirror_mode": {
    "name": "ipython",
    "version": 2
   },
   "file_extension": ".py",
   "mimetype": "text/x-python",
   "name": "python",
   "nbconvert_exporter": "python",
   "pygments_lexer": "ipython2",
   "version": "2.7.10"
  }
 },
 "nbformat": 4,
 "nbformat_minor": 0
}
